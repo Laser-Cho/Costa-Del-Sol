{
 "cells": [
  {
   "cell_type": "code",
   "execution_count": null,
   "id": "b6e3ba5a-b397-443c-a5ac-9c5abe525ce3",
   "metadata": {},
   "outputs": [],
   "source": [
    "git remote add origin https://github.com/Laser-Cho/Costa-Del-Sol.git\n",
    "git remote add origin https://github.com/username/repository-name.git\n",
    "\n",
    "https://github.com/Laser-Cho/Costa-Del-Sol/blob/main/README.md"
   ]
  }
 ],
 "metadata": {
  "kernelspec": {
   "display_name": "Python 3 (ipykernel)",
   "language": "python",
   "name": "python3"
  },
  "language_info": {
   "codemirror_mode": {
    "name": "ipython",
    "version": 3
   },
   "file_extension": ".py",
   "mimetype": "text/x-python",
   "name": "python",
   "nbconvert_exporter": "python",
   "pygments_lexer": "ipython3",
   "version": "3.12.0"
  }
 },
 "nbformat": 4,
 "nbformat_minor": 5
}
