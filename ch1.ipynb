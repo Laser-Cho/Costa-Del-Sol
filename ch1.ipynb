{
 "cells": [
  {
   "cell_type": "markdown",
   "id": "928041a5-8808-4595-9609-3d12cdbb2b4a",
   "metadata": {},
   "source": [
    "# 챕터 1. 밴디트 문제"
   ]
  },
  {
   "cell_type": "markdown",
   "id": "ba7bd3cc-08f1-4fc1-a63c-d015fecf4f68",
   "metadata": {},
   "source": [
    "1.1 머신러닝 분류와 강화 학습  \n",
    ">1.1.1 지도 학습  \n",
    "1.1.2 비지도 학습  \n",
    "1.1.3 강화 학습"
   ]
  },
  {
   "cell_type": "markdown",
   "id": "95f77c32-8fc4-479e-bb70-1b149d10e514",
   "metadata": {},
   "source": [
    "1.2 밴디트 문제 와 표기법\n",
    ">1.2.1 밴디트 문제란?  \n",
    "  환경, 에이전트, 행동, 보상  \n",
    ">1.2.2 좋은 슬롯머신이란?  \n",
    "  확률분포표, 기댓값  \n",
    ">1.2.3 수식으로 표현하기   \n",
    "보상(Reward) = R  \n",
    "확률변수 = 값이 확률적으로 결정되는 변수  \n",
    "행동(Action) = A  \n",
    "기댓값(Expectaion) = E, $\\mathop{\\mathbb{E}}$  \n",
    "보상 R의 기댓값 = $\\mathbb{E}\\left[ R \\right]$   \n",
    "t번째에 얻는 보상 R의 기댓값 = $\\mathbb{E}\\left[ R_{t} \\right]$  \n",
    "행동 A로 인한 보상 기댓값 = $\\mathbb{E}\\left[ R| A \\right]$  \n",
    "보상에 대한 기댓값 = 행동가치 Q, q  \n",
    "행동 A에 대한 행동가치 $q \\left( A \\right) = \\mathbb{E} \\left[ R|A \\right]$  \n",
    "행동가치 Q 를 소문자로 적을 때는 실제 행동가치, 대문자 Q로 적을 때는 추정 행동가치를 의미\n",
    "\n",
    "    "
   ]
  },
  {
   "cell_type": "markdown",
   "id": "5d8f1526-06f5-43b7-940a-f225afe0a1d6",
   "metadata": {},
   "source": [
    "1.3 밴티드 알고리즘\n",
    "> 슬롯머신의 가치를 모르고, 추정해나가야 하는 상황.  \n",
    "> 1.3.1 가치 추정 방법  \n",
    "표본 평균  \n",
    "> 1.3.2 평균을 구하는 코드  \n",
    "증분구현  \n",
    "> 1.3.3 플레이어의 정책  \n",
    "탐욕 정책(Greedy policy)  \n",
    "활용 exploitation  \n",
    "탐색 exploration  \n",
    "활용과 탐색의 균형이 강화학습의 핵심. 기본적인 알고리즘은 $\\epsilon$-탐욕 정책, 엡실론 그리디 정책  \n",
    "$\\epsilon$-탐욕 정책, 엡실론 그리디 정책 : $\\epsilon$ = 0.1  이라면, 10% 확률로 탐색을 하고, 90%는 활용을 한다. 탐색에서는 무작위 행동을 한다. "
   ]
  },
  {
   "cell_type": "markdown",
   "id": "4d7af698-1397-4393-bc09-95a56a9adfa1",
   "metadata": {},
   "source": [
    "1.4 밴디트 알고리즘 구현  \n",
    "> 1.4.1 슬롯머신 구현"
   ]
  },
  {
   "cell_type": "code",
   "execution_count": 1,
   "id": "18d55211-0ac9-40a7-86cb-c4cf7bfc65a7",
   "metadata": {
    "execution": {
     "iopub.execute_input": "2025-01-30T06:54:40.288025Z",
     "iopub.status.busy": "2025-01-30T06:54:40.288025Z",
     "iopub.status.idle": "2025-01-30T06:54:40.473918Z",
     "shell.execute_reply": "2025-01-30T06:54:40.473918Z",
     "shell.execute_reply.started": "2025-01-30T06:54:40.288025Z"
    }
   },
   "outputs": [],
   "source": [
    "import numpy as np\n",
    "\n",
    "class Bandit:\n",
    "    def __init__(self, arms=10):\n",
    "        self.rates = np.random.rand(arms) # 슬롯머신들의 승률 설정 \n",
    "\n",
    "    def play(self, arm):\n",
    "        rate = self.rates[arm]\n",
    "        if rate > np.random.rand():\n",
    "            return 1\n",
    "        return 0\n",
    "\n",
    "    def show(self):\n",
    "        print(self.rates)"
   ]
  },
  {
   "cell_type": "code",
   "execution_count": 2,
   "id": "2254d931-bff9-4fd1-94a4-f544b03c0610",
   "metadata": {
    "execution": {
     "iopub.execute_input": "2025-01-30T06:54:40.473918Z",
     "iopub.status.busy": "2025-01-30T06:54:40.473918Z",
     "iopub.status.idle": "2025-01-30T06:54:40.593394Z",
     "shell.execute_reply": "2025-01-30T06:54:40.593394Z",
     "shell.execute_reply.started": "2025-01-30T06:54:40.473918Z"
    }
   },
   "outputs": [
    {
     "name": "stdout",
     "output_type": "stream",
     "text": [
      "[0.47098872 0.82736003 0.1495522  0.72256245 0.25917606 0.43889302\n",
      " 0.10202315 0.53446921 0.31837249 0.39583608]\n"
     ]
    }
   ],
   "source": [
    "bandit = Bandit()\n",
    "bandit.show()"
   ]
  },
  {
   "cell_type": "code",
   "execution_count": 3,
   "id": "8299baf7-6272-417d-9ef4-2dc315a1eca0",
   "metadata": {
    "execution": {
     "iopub.execute_input": "2025-01-30T06:54:40.593394Z",
     "iopub.status.busy": "2025-01-30T06:54:40.593394Z",
     "iopub.status.idle": "2025-01-30T06:54:40.597318Z",
     "shell.execute_reply": "2025-01-30T06:54:40.597318Z",
     "shell.execute_reply.started": "2025-01-30T06:54:40.593394Z"
    }
   },
   "outputs": [
    {
     "name": "stdout",
     "output_type": "stream",
     "text": [
      "1\n",
      "1\n",
      "1\n"
     ]
    }
   ],
   "source": [
    "_sum = 0\n",
    "for i in range(3):\n",
    "    _ = bandit.play(0)\n",
    "    _sum+=_\n",
    "    print(_)\n",
    "# _sum"
   ]
  },
  {
   "cell_type": "markdown",
   "id": "172f048e-a74a-4a76-a0bc-e0f41404cfb5",
   "metadata": {},
   "source": [
    "1.4.2 에이전트 구현"
   ]
  },
  {
   "cell_type": "code",
   "execution_count": 4,
   "id": "b6abfb6e-583b-4143-9d91-71e85fa14df8",
   "metadata": {
    "execution": {
     "iopub.execute_input": "2025-01-30T06:54:40.598326Z",
     "iopub.status.busy": "2025-01-30T06:54:40.598326Z",
     "iopub.status.idle": "2025-01-30T06:54:40.603143Z",
     "shell.execute_reply": "2025-01-30T06:54:40.603143Z",
     "shell.execute_reply.started": "2025-01-30T06:54:40.598326Z"
    }
   },
   "outputs": [],
   "source": [
    "bandit = Bandit()\n",
    "Q = 0"
   ]
  },
  {
   "cell_type": "code",
   "execution_count": 5,
   "id": "fbae325e-581d-484f-a53c-db40840dc306",
   "metadata": {
    "execution": {
     "iopub.execute_input": "2025-01-30T06:54:40.604149Z",
     "iopub.status.busy": "2025-01-30T06:54:40.603143Z",
     "iopub.status.idle": "2025-01-30T06:54:40.608257Z",
     "shell.execute_reply": "2025-01-30T06:54:40.608257Z",
     "shell.execute_reply.started": "2025-01-30T06:54:40.604149Z"
    }
   },
   "outputs": [
    {
     "name": "stdout",
     "output_type": "stream",
     "text": [
      "[0.21283121 0.62316941 0.94144366 0.40649852 0.943657   0.9970726\n",
      " 0.75526715 0.72907306 0.18494284 0.95157878]\n"
     ]
    }
   ],
   "source": [
    "bandit.show()"
   ]
  },
  {
   "cell_type": "code",
   "execution_count": 6,
   "id": "663f15fd-d12d-44d9-94f2-c51940ee9c32",
   "metadata": {
    "execution": {
     "iopub.execute_input": "2025-01-30T06:54:40.609263Z",
     "iopub.status.busy": "2025-01-30T06:54:40.608257Z",
     "iopub.status.idle": "2025-01-30T06:54:40.613288Z",
     "shell.execute_reply": "2025-01-30T06:54:40.613288Z",
     "shell.execute_reply.started": "2025-01-30T06:54:40.609263Z"
    }
   },
   "outputs": [
    {
     "name": "stdout",
     "output_type": "stream",
     "text": [
      "0.0\n",
      "0.0\n",
      "0.0\n",
      "0.0\n",
      "0.0\n",
      "0.16666666666666666\n",
      "0.14285714285714285\n",
      "0.125\n",
      "0.1111111111111111\n",
      "0.19999999999999998\n"
     ]
    }
   ],
   "source": [
    "for n in range(1, 11):\n",
    "    reward = bandit.play(0)\n",
    "    Q += (reward - Q) / n\n",
    "    print(Q)"
   ]
  },
  {
   "cell_type": "code",
   "execution_count": 7,
   "id": "0eb0f19a-33b5-4d0d-b24b-3c23218adf2e",
   "metadata": {
    "execution": {
     "iopub.execute_input": "2025-01-30T06:54:40.614293Z",
     "iopub.status.busy": "2025-01-30T06:54:40.613288Z",
     "iopub.status.idle": "2025-01-30T06:54:40.619837Z",
     "shell.execute_reply": "2025-01-30T06:54:40.619837Z",
     "shell.execute_reply.started": "2025-01-30T06:54:40.614293Z"
    }
   },
   "outputs": [
    {
     "name": "stdout",
     "output_type": "stream",
     "text": [
      "[0. 0. 0. 0. 0. 0. 0. 0. 0. 0.]\n",
      "[0. 0. 0. 0. 0. 0. 0. 0. 0. 0.]\n",
      "[0. 0. 0. 0. 0. 0. 0. 0. 0. 0.]\n",
      "[0.  0.5 0.  0.  0.  0.  0.  0.  0.  0. ]\n",
      "[0.  0.5 0.  0.  0.  0.  1.  0.  0.  0. ]\n",
      "[0.  0.5 0.  0.  0.  1.  1.  0.  0.  0. ]\n",
      "[0.         0.33333333 0.         0.         0.         1.\n",
      " 1.         0.         0.         0.        ]\n",
      "[0.         0.33333333 0.         0.         0.         1.\n",
      " 1.         1.         0.         0.        ]\n",
      "[0.         0.33333333 0.         0.         0.         1.\n",
      " 1.         1.         0.         0.        ]\n",
      "[0.   0.25 0.   0.   0.   1.   1.   1.   0.   0.  ]\n"
     ]
    }
   ],
   "source": [
    "bandit = Bandit()\n",
    "Qs = np.zeros(10) # 각 슬롯머신의 가치 추정치\n",
    "ns = np.zeros(10) # 각 슬롯머신의 플레이 횟수\n",
    "\n",
    "for n in range(10):\n",
    "    action = np.random.randint(0, 10) # 임의의 슬롯머신 선택\n",
    "    reward = bandit.play(action)\n",
    "\n",
    "    ns[action] += 1 \n",
    "    Qs[action] += (reward - Qs[action]) / ns[action]\n",
    "    print(Qs)"
   ]
  },
  {
   "cell_type": "code",
   "execution_count": 8,
   "id": "ad2c6267-1b2b-48a7-97aa-84a0275557ab",
   "metadata": {
    "execution": {
     "iopub.execute_input": "2025-01-30T06:54:58.838508Z",
     "iopub.status.busy": "2025-01-30T06:54:58.838508Z",
     "iopub.status.idle": "2025-01-30T06:54:58.842127Z",
     "shell.execute_reply": "2025-01-30T06:54:58.841674Z",
     "shell.execute_reply.started": "2025-01-30T06:54:58.838508Z"
    }
   },
   "outputs": [
    {
     "name": "stdout",
     "output_type": "stream",
     "text": [
      "[0.88293346 0.15337894 0.05865297 0.37811784 0.25128953 0.96723386\n",
      " 0.15141695 0.38408965 0.49601199 0.36331612]\n"
     ]
    }
   ],
   "source": [
    "bandit.show()"
   ]
  },
  {
   "cell_type": "code",
   "execution_count": null,
   "id": "04576c06-459e-4cf2-a642-d5d4be381a5f",
   "metadata": {},
   "outputs": [],
   "source": [
    "class Agent:\n",
    "    def __init__(self, epsilon, action_size=10):\n",
    "        self.epsilon = epsilon # 탐색 확률\n",
    "        self.Qs = np.zeros(action_size)\n",
    "        self.ns = np.zeros(action_size)\n",
    "    \n",
    "    def update(self, action, reward):\n",
    "        self.ns[action]+=1\n",
    "        self.Qs[action] += (reward - self.Qs[action]) / self.ns[action]\n",
    "\n",
    "    def get_action(self): # 행동 추정\n",
    "        if np.random.rand() < self.epsilon: \n",
    "            return np.random.randint(len(self.Qs))\n",
    "        \n",
    "\n",
    "                            \n",
    "        "
   ]
  },
  {
   "cell_type": "code",
   "execution_count": null,
   "id": "624d9e3d-7278-4f18-aaab-e2eae60c7425",
   "metadata": {},
   "outputs": [],
   "source": []
  },
  {
   "cell_type": "code",
   "execution_count": null,
   "id": "8a59ed8d-00f4-4877-b6c0-87e3b3fffcf4",
   "metadata": {},
   "outputs": [],
   "source": []
  }
 ],
 "metadata": {
  "kernelspec": {
   "display_name": "Python 3 (ipykernel)",
   "language": "python",
   "name": "python3"
  },
  "language_info": {
   "codemirror_mode": {
    "name": "ipython",
    "version": 3
   },
   "file_extension": ".py",
   "mimetype": "text/x-python",
   "name": "python",
   "nbconvert_exporter": "python",
   "pygments_lexer": "ipython3",
   "version": "3.12.0"
  }
 },
 "nbformat": 4,
 "nbformat_minor": 5
}
