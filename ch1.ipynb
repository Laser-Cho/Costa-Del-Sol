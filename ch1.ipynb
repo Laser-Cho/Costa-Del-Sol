{
 "cells": [
  {
   "cell_type": "markdown",
   "id": "928041a5-8808-4595-9609-3d12cdbb2b4a",
   "metadata": {},
   "source": [
    "# 챕터 1. 밴디트 문제"
   ]
  },
  {
   "cell_type": "markdown",
   "id": "ba7bd3cc-08f1-4fc1-a63c-d015fecf4f68",
   "metadata": {},
   "source": [
    "1.1 머신러닝 분류와 강화 학습  \n",
    ">1.1.1 지도 학습  \n",
    "1.1.2 비지도 학습  \n",
    "1.1.3 강화 학습"
   ]
  },
  {
   "cell_type": "markdown",
   "id": "95f77c32-8fc4-479e-bb70-1b149d10e514",
   "metadata": {},
   "source": [
    "1.2 밴디트 문제 와 표기법\n",
    ">1.2.1 밴디트 문제란?  \n",
    "  환경, 에이전트, 행동, 보상  \n",
    ">1.2.2 좋은 슬롯머신이란?  \n",
    "  확률분포표, 기댓값  \n",
    ">1.2.3 수식으로 표현하기   \n",
    "보상(Reward) = R  \n",
    "확률변수 = 값이 확률적으로 결정되는 변수  \n",
    "행동(Action) = A  \n",
    "기댓값(Expectaion) = E, $\\mathop{\\mathbb{E}}$  \n",
    "보상 R의 기댓값 = $\\mathbb{E}\\left[ R \\right]$   \n",
    "t번째에 얻는 보상 R의 기댓값 = $\\mathbb{E}\\left[ R_{t} \\right]$  \n",
    "행동 A로 인한 보상 기댓값 = $\\mathbb{E}\\left[ R| A \\right]$  \n",
    "보상에 대한 기댓값 = 행동가치 Q, q  \n",
    "행동 A에 대한 행동가치 $q \\left( A \\right) = \\mathbb{E} \\left[ R|A \\right]$  \n",
    "행동가치 Q 를 소문자로 적을 때는 실제 행동가치, 대문자 Q로 적을 때는 추정 행동가치를 의미\n",
    "\n",
    "    "
   ]
  },
  {
   "cell_type": "markdown",
   "id": "5d8f1526-06f5-43b7-940a-f225afe0a1d6",
   "metadata": {},
   "source": [
    "1.3 밴티드 알고리즘\n",
    "> 슬롯머신의 가치를 모르고, 추정해나가야 하는 상황.  \n",
    "> 1.3.1 가치 추정 방법  \n",
    "표본 평균  \n",
    "> 1.3.2 평균을 구하는 코드  \n",
    "증분구현  \n",
    "> 1.3.3 플레이어의 정책  \n",
    "탐욕 정책(Greedy policy)  \n",
    "활용 exploitation  \n",
    "탐색 exploration  \n",
    "활용과 탐색의 균형이 강화학습의 핵심. 기본적인 알고리즘은 $\\epsilon$-탐욕 정책, 엡실론 그리디 정책  \n",
    "$\\epsilon$-탐욕 정책, 엡실론 그리디 정책 : $\\epsilon$ = 0.1  이라면, 10% 확률로 탐색을 하고, 90%는 활용을 한다. 탐색에서는 무작위 행동을 한다. "
   ]
  },
  {
   "cell_type": "markdown",
   "id": "4d7af698-1397-4393-bc09-95a56a9adfa1",
   "metadata": {},
   "source": [
    "1.4 밴디트 알고리즘 구현  \n",
    "> 1.4.1 슬롯머신 구현"
   ]
  },
  {
   "cell_type": "code",
   "execution_count": 1,
   "id": "18d55211-0ac9-40a7-86cb-c4cf7bfc65a7",
   "metadata": {
    "execution": {
     "iopub.execute_input": "2025-01-30T07:20:28.082091Z",
     "iopub.status.busy": "2025-01-30T07:20:28.082091Z",
     "iopub.status.idle": "2025-01-30T07:20:28.136979Z",
     "shell.execute_reply": "2025-01-30T07:20:28.136979Z",
     "shell.execute_reply.started": "2025-01-30T07:20:28.082091Z"
    }
   },
   "outputs": [],
   "source": [
    "import numpy as np\n",
    "\n",
    "class Bandit:\n",
    "    def __init__(self, arms=10):\n",
    "        self.rates = np.random.rand(arms) # 슬롯머신들의 승률 설정 \n",
    "\n",
    "    def play(self, arm):\n",
    "        rate = self.rates[arm]\n",
    "        if rate > np.random.rand():\n",
    "            return 1\n",
    "        return 0\n",
    "\n",
    "    def show(self):\n",
    "        print(self.rates)"
   ]
  },
  {
   "cell_type": "code",
   "execution_count": 2,
   "id": "2254d931-bff9-4fd1-94a4-f544b03c0610",
   "metadata": {
    "execution": {
     "iopub.execute_input": "2025-01-30T07:20:28.136979Z",
     "iopub.status.busy": "2025-01-30T07:20:28.136979Z",
     "iopub.status.idle": "2025-01-30T07:20:28.147164Z",
     "shell.execute_reply": "2025-01-30T07:20:28.147164Z",
     "shell.execute_reply.started": "2025-01-30T07:20:28.136979Z"
    }
   },
   "outputs": [
    {
     "name": "stdout",
     "output_type": "stream",
     "text": [
      "[0.84654447 0.75366062 0.00263981 0.66359346 0.57327727 0.58095459\n",
      " 0.32881009 0.61634492 0.19196138 0.87191732]\n"
     ]
    }
   ],
   "source": [
    "bandit = Bandit()\n",
    "bandit.show()"
   ]
  },
  {
   "cell_type": "code",
   "execution_count": 3,
   "id": "8299baf7-6272-417d-9ef4-2dc315a1eca0",
   "metadata": {
    "execution": {
     "iopub.execute_input": "2025-01-30T07:20:28.147164Z",
     "iopub.status.busy": "2025-01-30T07:20:28.147164Z",
     "iopub.status.idle": "2025-01-30T07:20:28.150905Z",
     "shell.execute_reply": "2025-01-30T07:20:28.150905Z",
     "shell.execute_reply.started": "2025-01-30T07:20:28.147164Z"
    }
   },
   "outputs": [
    {
     "name": "stdout",
     "output_type": "stream",
     "text": [
      "1\n",
      "1\n",
      "1\n"
     ]
    }
   ],
   "source": [
    "_sum = 0\n",
    "for i in range(3):\n",
    "    _ = bandit.play(0)\n",
    "    _sum+=_\n",
    "    print(_)\n",
    "# _sum"
   ]
  },
  {
   "cell_type": "markdown",
   "id": "172f048e-a74a-4a76-a0bc-e0f41404cfb5",
   "metadata": {},
   "source": [
    "1.4.2 에이전트 구현"
   ]
  },
  {
   "cell_type": "code",
   "execution_count": 4,
   "id": "b6abfb6e-583b-4143-9d91-71e85fa14df8",
   "metadata": {
    "execution": {
     "iopub.execute_input": "2025-01-30T07:20:28.150905Z",
     "iopub.status.busy": "2025-01-30T07:20:28.150905Z",
     "iopub.status.idle": "2025-01-30T07:20:28.155946Z",
     "shell.execute_reply": "2025-01-30T07:20:28.155946Z",
     "shell.execute_reply.started": "2025-01-30T07:20:28.150905Z"
    }
   },
   "outputs": [],
   "source": [
    "bandit = Bandit()\n",
    "Q = 0"
   ]
  },
  {
   "cell_type": "code",
   "execution_count": 5,
   "id": "fbae325e-581d-484f-a53c-db40840dc306",
   "metadata": {
    "execution": {
     "iopub.execute_input": "2025-01-30T07:20:28.155946Z",
     "iopub.status.busy": "2025-01-30T07:20:28.155946Z",
     "iopub.status.idle": "2025-01-30T07:20:28.161907Z",
     "shell.execute_reply": "2025-01-30T07:20:28.161907Z",
     "shell.execute_reply.started": "2025-01-30T07:20:28.155946Z"
    }
   },
   "outputs": [
    {
     "name": "stdout",
     "output_type": "stream",
     "text": [
      "[0.72534328 0.53096633 0.18273793 0.59099613 0.96622412 0.17228538\n",
      " 0.94389726 0.86337703 0.22357532 0.10116602]\n"
     ]
    }
   ],
   "source": [
    "bandit.show()"
   ]
  },
  {
   "cell_type": "code",
   "execution_count": 6,
   "id": "663f15fd-d12d-44d9-94f2-c51940ee9c32",
   "metadata": {
    "execution": {
     "iopub.execute_input": "2025-01-30T07:20:28.161907Z",
     "iopub.status.busy": "2025-01-30T07:20:28.161907Z",
     "iopub.status.idle": "2025-01-30T07:20:28.167135Z",
     "shell.execute_reply": "2025-01-30T07:20:28.167135Z",
     "shell.execute_reply.started": "2025-01-30T07:20:28.161907Z"
    }
   },
   "outputs": [
    {
     "name": "stdout",
     "output_type": "stream",
     "text": [
      "1.0\n",
      "1.0\n",
      "1.0\n",
      "1.0\n",
      "1.0\n",
      "1.0\n",
      "1.0\n",
      "1.0\n",
      "1.0\n",
      "0.9\n"
     ]
    }
   ],
   "source": [
    "for n in range(1, 11):\n",
    "    reward = bandit.play(0)\n",
    "    Q += (reward - Q) / n\n",
    "    print(Q)"
   ]
  },
  {
   "cell_type": "code",
   "execution_count": 7,
   "id": "0eb0f19a-33b5-4d0d-b24b-3c23218adf2e",
   "metadata": {
    "execution": {
     "iopub.execute_input": "2025-01-30T07:20:28.167135Z",
     "iopub.status.busy": "2025-01-30T07:20:28.167135Z",
     "iopub.status.idle": "2025-01-30T07:20:28.173386Z",
     "shell.execute_reply": "2025-01-30T07:20:28.173386Z",
     "shell.execute_reply.started": "2025-01-30T07:20:28.167135Z"
    }
   },
   "outputs": [
    {
     "name": "stdout",
     "output_type": "stream",
     "text": [
      "[0. 1. 0. 0. 0. 0. 0. 0. 0. 0.]\n",
      "[1. 1. 0. 0. 0. 0. 0. 0. 0. 0.]\n",
      "[1. 1. 0. 0. 1. 0. 0. 0. 0. 0.]\n",
      "[1. 1. 0. 0. 1. 0. 0. 0. 0. 0.]\n",
      "[1. 1. 0. 0. 1. 0. 0. 0. 0. 0.]\n",
      "[1.  1.  0.  0.  0.5 0.  0.  0.  0.  0. ]\n",
      "[0.66666667 1.         0.         0.         0.5        0.\n",
      " 0.         0.         0.         0.        ]\n",
      "[0.66666667 1.         0.         0.         0.5        0.\n",
      " 0.         0.5        0.         0.        ]\n",
      "[0.66666667 1.         0.         0.         0.5        1.\n",
      " 0.         0.5        0.         0.        ]\n",
      "[0.66666667 1.         0.         0.         0.5        1.\n",
      " 0.         0.5        0.         0.        ]\n"
     ]
    }
   ],
   "source": [
    "bandit = Bandit()\n",
    "Qs = np.zeros(10) # 각 슬롯머신의 가치 추정치\n",
    "ns = np.zeros(10) # 각 슬롯머신의 플레이 횟수\n",
    "\n",
    "for n in range(10):\n",
    "    action = np.random.randint(0, 10) # 임의의 슬롯머신 선택\n",
    "    reward = bandit.play(action)\n",
    "\n",
    "    ns[action] += 1 \n",
    "    Qs[action] += (reward - Qs[action]) / ns[action]\n",
    "    print(Qs)"
   ]
  },
  {
   "cell_type": "code",
   "execution_count": 8,
   "id": "ad2c6267-1b2b-48a7-97aa-84a0275557ab",
   "metadata": {
    "execution": {
     "iopub.execute_input": "2025-01-30T07:20:28.174101Z",
     "iopub.status.busy": "2025-01-30T07:20:28.174101Z",
     "iopub.status.idle": "2025-01-30T07:20:28.177877Z",
     "shell.execute_reply": "2025-01-30T07:20:28.177877Z",
     "shell.execute_reply.started": "2025-01-30T07:20:28.174101Z"
    }
   },
   "outputs": [
    {
     "name": "stdout",
     "output_type": "stream",
     "text": [
      "[0.93091905 0.80557484 0.54870292 0.99738269 0.24732604 0.67796956\n",
      " 0.23609299 0.32560619 0.90557661 0.2305714 ]\n"
     ]
    }
   ],
   "source": [
    "bandit.show()"
   ]
  },
  {
   "cell_type": "code",
   "execution_count": 9,
   "id": "04576c06-459e-4cf2-a642-d5d4be381a5f",
   "metadata": {
    "execution": {
     "iopub.execute_input": "2025-01-30T07:20:28.177877Z",
     "iopub.status.busy": "2025-01-30T07:20:28.177877Z",
     "iopub.status.idle": "2025-01-30T07:20:28.182971Z",
     "shell.execute_reply": "2025-01-30T07:20:28.182971Z",
     "shell.execute_reply.started": "2025-01-30T07:20:28.177877Z"
    }
   },
   "outputs": [],
   "source": [
    "class Agent:\n",
    "    def __init__(self, epsilon, action_size=10):\n",
    "        self.epsilon = epsilon # 탐색 확률\n",
    "        self.Qs = np.zeros(action_size)\n",
    "        self.ns = np.zeros(action_size)\n",
    "        self.results = []\n",
    "        \n",
    "    def update(self, action, reward):\n",
    "        self.ns[action]+=1\n",
    "        self.Qs[action] += (reward - self.Qs[action]) / self.ns[action]\n",
    "\n",
    "    def get_action(self): # 행동 추정\n",
    "        \n",
    "        if np.random.rand() < self.epsilon: \n",
    "            result = np.random.randint(len(self.Qs)) # 탐색 행동. 임의의 기기를 고른다.\n",
    "        else:\n",
    "            result = np.argmax(self.Qs) # 탐욕 행동. 가장 큰 인덱스를 반환한다.        \n",
    "        \n",
    "        self.results.append(result)\n",
    "        return result"
   ]
  },
  {
   "cell_type": "markdown",
   "id": "0759c2b7-7907-4fb4-9390-2aa0559c1eb0",
   "metadata": {
    "execution": {
     "iopub.execute_input": "2025-01-30T07:19:32.540981Z",
     "iopub.status.busy": "2025-01-30T07:19:32.540981Z",
     "iopub.status.idle": "2025-01-30T07:19:32.592030Z",
     "shell.execute_reply": "2025-01-30T07:19:32.592030Z",
     "shell.execute_reply.started": "2025-01-30T07:19:32.540981Z"
    }
   },
   "source": [
    "!git add ch1.ipynb"
   ]
  },
  {
   "cell_type": "markdown",
   "id": "40c82523-a31a-4e9c-86d0-20b22f377e5c",
   "metadata": {
    "execution": {
     "iopub.execute_input": "2025-01-30T07:19:44.926091Z",
     "iopub.status.busy": "2025-01-30T07:19:44.925587Z",
     "iopub.status.idle": "2025-01-30T07:19:44.985694Z",
     "shell.execute_reply": "2025-01-30T07:19:44.985694Z",
     "shell.execute_reply.started": "2025-01-30T07:19:44.926091Z"
    }
   },
   "source": [
    "!git commit -m \"1.4.4 시작\""
   ]
  },
  {
   "cell_type": "markdown",
   "id": "7d37a652-8d5f-42f8-b139-6ba9e579e402",
   "metadata": {
    "execution": {
     "iopub.execute_input": "2025-01-30T07:19:49.558288Z",
     "iopub.status.busy": "2025-01-30T07:19:49.556219Z",
     "iopub.status.idle": "2025-01-30T07:19:51.364660Z",
     "shell.execute_reply": "2025-01-30T07:19:51.364151Z",
     "shell.execute_reply.started": "2025-01-30T07:19:49.558288Z"
    }
   },
   "source": [
    "!git push origin main"
   ]
  },
  {
   "cell_type": "markdown",
   "id": "b52ba664-40fd-4c66-a764-5012d3dbe6b5",
   "metadata": {},
   "source": [
    "1.4.3 실행해보기 (44p)"
   ]
  },
  {
   "cell_type": "code",
   "execution_count": 10,
   "id": "fbd64aaa-6279-43ee-a550-0286d045aeb6",
   "metadata": {
    "execution": {
     "iopub.execute_input": "2025-01-30T07:20:28.182971Z",
     "iopub.status.busy": "2025-01-30T07:20:28.182971Z",
     "iopub.status.idle": "2025-01-30T07:20:28.456188Z",
     "shell.execute_reply": "2025-01-30T07:20:28.456188Z",
     "shell.execute_reply.started": "2025-01-30T07:20:28.182971Z"
    }
   },
   "outputs": [],
   "source": [
    "import matplotlib.pyplot as plt"
   ]
  },
  {
   "cell_type": "code",
   "execution_count": 11,
   "id": "8765d995-bece-46a6-bd8e-9596f67ee353",
   "metadata": {
    "execution": {
     "iopub.execute_input": "2025-01-30T07:20:28.457208Z",
     "iopub.status.busy": "2025-01-30T07:20:28.457208Z",
     "iopub.status.idle": "2025-01-30T07:20:28.460180Z",
     "shell.execute_reply": "2025-01-30T07:20:28.460180Z",
     "shell.execute_reply.started": "2025-01-30T07:20:28.457208Z"
    }
   },
   "outputs": [],
   "source": [
    "steps = 1000\n",
    "epsilon = 0.1"
   ]
  },
  {
   "cell_type": "code",
   "execution_count": 12,
   "id": "35af2c2e-74a6-4ef3-9b64-7492a52e1670",
   "metadata": {
    "execution": {
     "iopub.execute_input": "2025-01-30T07:20:28.461184Z",
     "iopub.status.busy": "2025-01-30T07:20:28.461184Z",
     "iopub.status.idle": "2025-01-30T07:20:28.474120Z",
     "shell.execute_reply": "2025-01-30T07:20:28.473729Z",
     "shell.execute_reply.started": "2025-01-30T07:20:28.461184Z"
    }
   },
   "outputs": [],
   "source": [
    "bandit = Bandit()\n",
    "agent = Agent(epsilon)\n",
    "total_reward = 0\n",
    "total_rewards = [] # 보상 합\n",
    "rates = []         # 승률\n",
    "actions = []"
   ]
  },
  {
   "cell_type": "code",
   "execution_count": 13,
   "id": "cf19b799-ce52-49a0-aef5-495e5230e76b",
   "metadata": {
    "execution": {
     "iopub.execute_input": "2025-01-30T07:20:28.474940Z",
     "iopub.status.busy": "2025-01-30T07:20:28.474607Z",
     "iopub.status.idle": "2025-01-30T07:20:28.483348Z",
     "shell.execute_reply": "2025-01-30T07:20:28.483348Z",
     "shell.execute_reply.started": "2025-01-30T07:20:28.474940Z"
    }
   },
   "outputs": [
    {
     "name": "stdout",
     "output_type": "stream",
     "text": [
      "843\n"
     ]
    }
   ],
   "source": [
    "for step in range(steps):\n",
    "    action = agent.get_action()  # ① 행동 선택\n",
    "    reward = bandit.play(action) # ② 실제로 플레이하고 보상 받음\n",
    "    agent.update(action, reward) # ③ 행동과 보상을 통한 학습\n",
    "    total_reward += reward\n",
    "    total_rewards.append(total_reward)\n",
    "    rates.append(total_reward / (step+1))\n",
    "    \n",
    "print(total_reward)    "
   ]
  },
  {
   "cell_type": "code",
   "execution_count": 14,
   "id": "4d305cab-0db1-4214-a40e-1963da513aa9",
   "metadata": {
    "execution": {
     "iopub.execute_input": "2025-01-30T07:20:28.483348Z",
     "iopub.status.busy": "2025-01-30T07:20:28.483348Z",
     "iopub.status.idle": "2025-01-30T07:20:28.592925Z",
     "shell.execute_reply": "2025-01-30T07:20:28.592925Z",
     "shell.execute_reply.started": "2025-01-30T07:20:28.483348Z"
    }
   },
   "outputs": [
    {
     "data": {
      "image/png": "[encoded data removed]",
      "text/plain": [
       "<Figure size 640x480 with 1 Axes>"
      ]
     },
     "metadata": {},
     "output_type": "display_data"
    },
    {
     "data": {
      "image/png": "[encoded data removed]",
      "text/plain": [
       "<Figure size 640x480 with 1 Axes>"
      ]
     },
     "metadata": {},
     "output_type": "display_data"
    }
   ],
   "source": [
    "plt.ylabel(\"Total reward\")\n",
    "plt.xlabel(\"Steps\")\n",
    "plt.plot(total_rewards)\n",
    "plt.show()\n",
    "\n",
    "plt.ylabel(\"rates\")\n",
    "plt.xlabel(\"Steps\")\n",
    "plt.plot(rates)\n",
    "plt.show()"
   ]
  },
  {
   "cell_type": "code",
   "execution_count": 15,
   "id": "8a59ed8d-00f4-4877-b6c0-87e3b3fffcf4",
   "metadata": {
    "execution": {
     "iopub.execute_input": "2025-01-30T07:20:28.592925Z",
     "iopub.status.busy": "2025-01-30T07:20:28.592925Z",
     "iopub.status.idle": "2025-01-30T07:20:28.596229Z",
     "shell.execute_reply": "2025-01-30T07:20:28.596229Z",
     "shell.execute_reply.started": "2025-01-30T07:20:28.592925Z"
    }
   },
   "outputs": [
    {
     "name": "stdout",
     "output_type": "stream",
     "text": [
      "[0.0829455  0.81007661 0.08395974 0.33148458 0.50728475 0.97675808\n",
      " 0.22789808 0.24249848 0.97996829 0.20783615]\n"
     ]
    }
   ],
   "source": [
    "bandit.show()"
   ]
  },
  {
   "cell_type": "code",
   "execution_count": 16,
   "id": "621e8b8f-c9f3-4f37-9f8c-07824127d387",
   "metadata": {
    "execution": {
     "iopub.execute_input": "2025-01-30T07:20:28.596229Z",
     "iopub.status.busy": "2025-01-30T07:20:28.596229Z",
     "iopub.status.idle": "2025-01-30T07:20:28.664818Z",
     "shell.execute_reply": "2025-01-30T07:20:28.664818Z",
     "shell.execute_reply.started": "2025-01-30T07:20:28.596229Z"
    }
   },
   "outputs": [
    {
     "data": {
      "text/plain": [
       "<matplotlib.collections.PathCollection at 0x24e982e90a0>"
      ]
     },
     "execution_count": 16,
     "metadata": {},
     "output_type": "execute_result"
    },
    {
     "data": {
      "image/png": "[encoded data removed]",
      "text/plain": [
       "<Figure size 640x480 with 1 Axes>"
      ]
     },
     "metadata": {},
     "output_type": "display_data"
    }
   ],
   "source": [
    "plt.scatter(x = [x for x in range(len(agent.results))], y = agent.results)"
   ]
  },
  {
   "cell_type": "code",
   "execution_count": 17,
   "id": "0b59a417-69e6-477f-8782-28d0b1daf72b",
   "metadata": {
    "execution": {
     "iopub.execute_input": "2025-01-30T07:20:28.666052Z",
     "iopub.status.busy": "2025-01-30T07:20:28.664818Z",
     "iopub.status.idle": "2025-01-30T07:20:28.857990Z",
     "shell.execute_reply": "2025-01-30T07:20:28.857990Z",
     "shell.execute_reply.started": "2025-01-30T07:20:28.666052Z"
    }
   },
   "outputs": [
    {
     "data": {
      "text/plain": [
       "0\n",
       "5    511\n",
       "8    246\n",
       "1     98\n",
       "0     78\n",
       "4     19\n",
       "2     14\n",
       "3     10\n",
       "6     10\n",
       "9     10\n",
       "7      4\n",
       "Name: count, dtype: int64"
      ]
     },
     "execution_count": 17,
     "metadata": {},
     "output_type": "execute_result"
    }
   ],
   "source": [
    "import pandas as pd\n",
    "df = pd.DataFrame(agent.results)\n",
    "df.value_counts()"
   ]
  },
  {
   "cell_type": "code",
   "execution_count": 20,
   "id": "da25bc71-3f52-4fcd-87b4-0a7d54456868",
   "metadata": {
    "execution": {
     "iopub.execute_input": "2025-01-30T07:21:41.696978Z",
     "iopub.status.busy": "2025-01-30T07:21:41.696978Z",
     "iopub.status.idle": "2025-01-30T07:21:41.701820Z",
     "shell.execute_reply": "2025-01-30T07:21:41.701394Z",
     "shell.execute_reply.started": "2025-01-30T07:21:41.696978Z"
    }
   },
   "outputs": [
    {
     "name": "stdout",
     "output_type": "stream",
     "text": [
      "[0.0829455  0.81007661 0.08395974 0.33148458 0.50728475 0.97675808\n",
      " 0.22789808 0.24249848 0.97996829 0.20783615]\n"
     ]
    },
    {
     "data": {
      "text/plain": [
       "(None,\n",
       " array([0.11538462, 0.7755102 , 0.07142857, 0.3       , 0.36842105,\n",
       "        0.97847358, 0.4       , 0.25      , 0.97560976, 0.2       ]))"
      ]
     },
     "execution_count": 20,
     "metadata": {},
     "output_type": "execute_result"
    }
   ],
   "source": [
    "bandit.show(), agent.Qs"
   ]
  },
  {
   "cell_type": "markdown",
   "id": "35fc9db9-dc64-464e-bdbb-629ffc69d6e9",
   "metadata": {},
   "source": [
    "1.4.4 알고리즘의 평균적인 특성"
   ]
  }
 ],
 "metadata": {
  "kernelspec": {
   "display_name": "Python 3 (ipykernel)",
   "language": "python",
   "name": "python3"
  },
  "language_info": {
   "codemirror_mode": {
    "name": "ipython",
    "version": 3
   },
   "file_extension": ".py",
   "mimetype": "text/x-python",
   "name": "python",
   "nbconvert_exporter": "python",
   "pygments_lexer": "ipython3",
   "version": "3.12.0"
  }
 },
 "nbformat": 4,
 "nbformat_minor": 5
}
