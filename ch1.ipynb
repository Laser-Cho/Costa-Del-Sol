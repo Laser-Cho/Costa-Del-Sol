{
 "cells": [
  {
   "cell_type": "markdown",
   "id": "928041a5-8808-4595-9609-3d12cdbb2b4a",
   "metadata": {},
   "source": [
    "# 챕터 1. 밴디트 문제"
   ]
  },
  {
   "cell_type": "markdown",
   "id": "ba7bd3cc-08f1-4fc1-a63c-d015fecf4f68",
   "metadata": {},
   "source": [
    "1.1 머신러닝 분류와 강화 학습  \n",
    ">1.1.1 지도 학습  \n",
    "1.1.2 비지도 학습  \n",
    "1.1.3 강화 학습"
   ]
  },
  {
   "cell_type": "markdown",
   "id": "95f77c32-8fc4-479e-bb70-1b149d10e514",
   "metadata": {},
   "source": [
    "1.2 밴디트 문제 와 표기법\n",
    ">1.2.1 밴디트 문제란?  \n",
    "  환경, 에이전트, 행동, 보상  \n",
    ">1.2.2 좋은 슬롯머신이란?  \n",
    "  확률분포표, 기댓값  \n",
    ">1.2.3 수식으로 표현하기   \n",
    "보상(Reward) = R  \n",
    "확률변수 = 값이 확률적으로 결정되는 변수  \n",
    "행동(Action) = A  \n",
    "기댓값(Expectaion) = E, $\\mathop{\\mathbb{E}}$  \n",
    "보상 R의 기댓값 = $\\mathbb{E}\\left[ R \\right]$   \n",
    "t번째에 얻는 보상 R의 기댓값 = $\\mathbb{E}\\left[ R_{t} \\right]$  \n",
    "행동 A로 인한 보상 기댓값 = $\\mathbb{E}\\left[ R| A \\right]$  \n",
    "보상에 대한 기댓값 = 행동가치 Q, q  \n",
    "행동 A에 대한 행동가치 $q \\left( A \\right) = \\mathbb{E} \\left[ R|A \\right]$  \n",
    "행동가치 Q 를 소문자로 적을 때는 실제 행동가치, 대문자 Q로 적을 때는 추정 행동가치를 의미\n",
    "\n",
    "    "
   ]
  },
  {
   "cell_type": "markdown",
   "id": "5d8f1526-06f5-43b7-940a-f225afe0a1d6",
   "metadata": {},
   "source": [
    "1.3 밴티드 알고리즘\n",
    "> 슬롯머신의 가치를 모르고, 추정해나가야 하는 상황.  \n",
    "> 1.3.1 가치 추정 방법  \n",
    "표본 평균  \n",
    "> 1.3.2 평균을 구하는 코드  \n",
    "증분구현  \n",
    "> 1.3.3 플레이어의 정책  \n",
    "탐욕 정책(Greedy policy)  \n",
    "활용 exploitation  \n",
    "탐색 exploration  \n",
    "활용과 탐색의 균형이 강화학습의 핵심. 기본적인 알고리즘은 $\\epsilon$-탐욕 정책, 엡실론 그리디 정책  \n",
    "$\\epsilon$-탐욕 정책, 엡실론 그리디 정책 : $\\epsilon$ = 0.1  이라면, 10% 확률로 탐색을 하고, 90%는 활용을 한다. 탐색에서는 무작위 행동을 한다. "
   ]
  },
  {
   "cell_type": "markdown",
   "id": "4d7af698-1397-4393-bc09-95a56a9adfa1",
   "metadata": {},
   "source": [
    "1.4 밴디트 알고리즘 구현  \n",
    "> 1.4.1 슬롯머신 구현"
   ]
  },
  {
   "cell_type": "code",
   "execution_count": 21,
   "id": "18d55211-0ac9-40a7-86cb-c4cf7bfc65a7",
   "metadata": {
    "execution": {
     "iopub.execute_input": "2025-01-28T17:28:29.023666Z",
     "iopub.status.busy": "2025-01-28T17:28:29.023666Z",
     "iopub.status.idle": "2025-01-28T17:28:29.027812Z",
     "shell.execute_reply": "2025-01-28T17:28:29.027812Z",
     "shell.execute_reply.started": "2025-01-28T17:28:29.023666Z"
    }
   },
   "outputs": [],
   "source": [
    "import numpy as np\n",
    "\n",
    "class Bandit:\n",
    "    def __init__(self, arms=10):\n",
    "        self.rates = np.random.rand(arms) # 슬롯머신들의 승률 설정 \n",
    "\n",
    "    def play(self, arm):\n",
    "        rate = self.rates[arm]\n",
    "        if rate > np.random.rand():\n",
    "            return 1\n",
    "        return 0\n",
    "\n",
    "    def show(self):\n",
    "        print(self.rates)"
   ]
  },
  {
   "cell_type": "code",
   "execution_count": 23,
   "id": "2254d931-bff9-4fd1-94a4-f544b03c0610",
   "metadata": {
    "execution": {
     "iopub.execute_input": "2025-01-28T17:28:36.222469Z",
     "iopub.status.busy": "2025-01-28T17:28:36.222469Z",
     "iopub.status.idle": "2025-01-28T17:28:36.225974Z",
     "shell.execute_reply": "2025-01-28T17:28:36.225468Z",
     "shell.execute_reply.started": "2025-01-28T17:28:36.222469Z"
    }
   },
   "outputs": [
    {
     "name": "stdout",
     "output_type": "stream",
     "text": [
      "[0.36928192 0.8913941  0.14736506 0.43569083 0.42526147 0.50362806\n",
      " 0.50826298 0.706669   0.14693915 0.75988704]\n"
     ]
    }
   ],
   "source": [
    "bandit = Bandit()\n",
    "bandit.show()"
   ]
  },
  {
   "cell_type": "code",
   "execution_count": 79,
   "id": "8299baf7-6272-417d-9ef4-2dc315a1eca0",
   "metadata": {
    "execution": {
     "iopub.execute_input": "2025-01-28T17:34:42.123860Z",
     "iopub.status.busy": "2025-01-28T17:34:42.123860Z",
     "iopub.status.idle": "2025-01-28T17:34:42.127298Z",
     "shell.execute_reply": "2025-01-28T17:34:42.127298Z",
     "shell.execute_reply.started": "2025-01-28T17:34:42.123860Z"
    }
   },
   "outputs": [
    {
     "name": "stdout",
     "output_type": "stream",
     "text": [
      "0\n",
      "0\n",
      "0\n"
     ]
    }
   ],
   "source": [
    "_sum = 0\n",
    "for i in range(3):\n",
    "    _ = bandit.play(0)\n",
    "    _sum+=_\n",
    "    print(_)\n",
    "# _sum"
   ]
  },
  {
   "cell_type": "markdown",
   "id": "172f048e-a74a-4a76-a0bc-e0f41404cfb5",
   "metadata": {},
   "source": [
    "1.4.2 에이전트 구현"
   ]
  },
  {
   "cell_type": "code",
   "execution_count": 85,
   "id": "b6abfb6e-583b-4143-9d91-71e85fa14df8",
   "metadata": {
    "execution": {
     "iopub.execute_input": "2025-01-28T17:37:06.697389Z",
     "iopub.status.busy": "2025-01-28T17:37:06.697389Z",
     "iopub.status.idle": "2025-01-28T17:37:06.700895Z",
     "shell.execute_reply": "2025-01-28T17:37:06.700389Z",
     "shell.execute_reply.started": "2025-01-28T17:37:06.697389Z"
    }
   },
   "outputs": [],
   "source": [
    "bandit = Bandit()\n",
    "Q = 0"
   ]
  },
  {
   "cell_type": "code",
   "execution_count": 86,
   "id": "fbae325e-581d-484f-a53c-db40840dc306",
   "metadata": {
    "execution": {
     "iopub.execute_input": "2025-01-28T17:37:07.312181Z",
     "iopub.status.busy": "2025-01-28T17:37:07.312181Z",
     "iopub.status.idle": "2025-01-28T17:37:07.315689Z",
     "shell.execute_reply": "2025-01-28T17:37:07.315689Z",
     "shell.execute_reply.started": "2025-01-28T17:37:07.312181Z"
    }
   },
   "outputs": [
    {
     "name": "stdout",
     "output_type": "stream",
     "text": [
      "[0.14231588 0.62336533 0.90899853 0.52419338 0.26677634 0.84189895\n",
      " 0.14967062 0.073204   0.99540357 0.04730611]\n"
     ]
    }
   ],
   "source": [
    "bandit.show()"
   ]
  },
  {
   "cell_type": "code",
   "execution_count": 88,
   "id": "663f15fd-d12d-44d9-94f2-c51940ee9c32",
   "metadata": {
    "execution": {
     "iopub.execute_input": "2025-01-28T17:37:17.085138Z",
     "iopub.status.busy": "2025-01-28T17:37:17.085138Z",
     "iopub.status.idle": "2025-01-28T17:37:17.088647Z",
     "shell.execute_reply": "2025-01-28T17:37:17.088647Z",
     "shell.execute_reply.started": "2025-01-28T17:37:17.085138Z"
    }
   },
   "outputs": [
    {
     "name": "stdout",
     "output_type": "stream",
     "text": [
      "0.0\n",
      "0.0\n",
      "0.0\n",
      "0.0\n",
      "0.0\n",
      "0.0\n",
      "0.14285714285714285\n",
      "0.125\n",
      "0.2222222222222222\n",
      "0.3\n"
     ]
    }
   ],
   "source": [
    "for n in range(1, 11):\n",
    "    reward = bandit.play(0)\n",
    "    Q += (reward - Q) / n\n",
    "    print(Q)"
   ]
  },
  {
   "cell_type": "code",
   "execution_count": null,
   "id": "0eb0f19a-33b5-4d0d-b24b-3c23218adf2e",
   "metadata": {},
   "outputs": [],
   "source": [
    "bandit = Bandit()\n",
    "Qs = np.zeros(10) # 각 슬롯머신의 가치 추정치\n",
    "ns = np.zeros(10) # 각 슬롯머신의 플레이 횟수\n",
    "\n",
    "for n in range(10):\n",
    "    action = np.random.randint(0, 10) # 임의의 슬롯머신 선택\n",
    "    "
   ]
  }
 ],
 "metadata": {
  "kernelspec": {
   "display_name": "Python 3 (ipykernel)",
   "language": "python",
   "name": "python3"
  },
  "language_info": {
   "codemirror_mode": {
    "name": "ipython",
    "version": 3
   },
   "file_extension": ".py",
   "mimetype": "text/x-python",
   "name": "python",
   "nbconvert_exporter": "python",
   "pygments_lexer": "ipython3",
   "version": "3.12.0"
  }
 },
 "nbformat": 4,
 "nbformat_minor": 5
}
