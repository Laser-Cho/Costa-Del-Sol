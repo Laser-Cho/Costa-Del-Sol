{
 "cells": [
  {
   "cell_type": "markdown",
   "id": "928041a5-8808-4595-9609-3d12cdbb2b4a",
   "metadata": {},
   "source": [
    "# 챕터 1. 밴디트 문제"
   ]
  },
  {
   "cell_type": "markdown",
   "id": "ba7bd3cc-08f1-4fc1-a63c-d015fecf4f68",
   "metadata": {},
   "source": [
    "1.1 머신러닝 분류와 강화 학습  \n",
    ">1.1.1 지도 학습  \n",
    "1.1.2 비지도 학습  \n",
    "1.1.3 강화 학습"
   ]
  },
  {
   "cell_type": "markdown",
   "id": "95f77c32-8fc4-479e-bb70-1b149d10e514",
   "metadata": {},
   "source": [
    "1.2 밴디트 문제 와 표기법\n",
    ">1.2.1 밴디트 문제란?  \n",
    "  환경, 에이전트, 행동, 보상  \n",
    ">1.2.2 좋은 슬롯머신이란?  \n",
    "  확률분포표, 기댓값  \n",
    ">1.2.3 수식으로 표현하기   \n",
    "보상(Reward) = R  \n",
    "확률변수 = 값이 확률적으로 결정되는 변수  \n",
    "행동(Action) = A  \n",
    "기댓값(Expectaion) = E, $\\mathop{\\mathbb{E}}$  \n",
    "보상 R의 기댓값 = $\\mathbb{E}\\left[ R \\right]$   \n",
    "t번째에 얻는 보상 R의 기댓값 = $\\mathbb{E}\\left[ R_{t} \\right]$  \n",
    "행동 A로 인한 보상 기댓값 = $\\mathbb{E}\\left[ R| A \\right]$  \n",
    "보상에 대한 기댓값 = 행동가치 Q, q  \n",
    "행동 A에 대한 행동가치 $q \\left( A \\right) = \\mathbb{E} \\left[ R|A \\right]$  \n",
    "행동가치 Q 를 소문자로 적을 때는 실제 행동가치, 대문자 Q로 적을 때는 추정 행동가치를 의미\n",
    "\n",
    "    "
   ]
  },
  {
   "cell_type": "markdown",
   "id": "5d8f1526-06f5-43b7-940a-f225afe0a1d6",
   "metadata": {},
   "source": [
    "1.3 밴티드 알고리즘"
   ]
  }
 ],
 "metadata": {
  "kernelspec": {
   "display_name": "Python 3 (ipykernel)",
   "language": "python",
   "name": "python3"
  },
  "language_info": {
   "codemirror_mode": {
    "name": "ipython",
    "version": 3
   },
   "file_extension": ".py",
   "mimetype": "text/x-python",
   "name": "python",
   "nbconvert_exporter": "python",
   "pygments_lexer": "ipython3",
   "version": "3.12.0"
  }
 },
 "nbformat": 4,
 "nbformat_minor": 5
}
