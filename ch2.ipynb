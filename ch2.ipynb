{
 "cells": [
  {
   "cell_type": "markdown",
   "id": "b7b599a5-8d95-480f-98f7-95637cfc1ac3",
   "metadata": {
    "execution": {
     "iopub.execute_input": "2025-02-01T12:31:32.612452Z",
     "iopub.status.busy": "2025-02-01T12:31:32.611452Z",
     "iopub.status.idle": "2025-02-01T12:31:34.423759Z",
     "shell.execute_reply": "2025-02-01T12:31:34.423255Z",
     "shell.execute_reply.started": "2025-02-01T12:31:32.612452Z"
    }
   },
   "source": [
    "!git init\n",
    "!git add ch2.ipynb\n",
    "!git commit -m \"시작\"\n",
    "!git push origin main"
   ]
  },
  {
   "cell_type": "markdown",
   "id": "ae100ded-f2f6-4a63-8a02-7a8122aab06d",
   "metadata": {},
   "source": [
    "# 2. 마르코프 결정 과정"
   ]
  },
  {
   "cell_type": "markdown",
   "id": "7674cf8f-7fd6-48b6-85d1-e420e1b5f557",
   "metadata": {},
   "source": [
    "시간에 따라 보상이 변하는 비정상 - non stationary 문제 와 달리, 에이전트의 행동에 따라 환경이 변하는 문제는 어떻게 푸는가?\n",
    "\n",
    "그에 대한 입문단계의  해답으로서 마크로크 결정 과정, Markov Decision Process 를 설명한다."
   ]
  },
  {
   "cell_type": "markdown",
   "id": "5e863797-a650-4dfa-afb4-c49f63653840",
   "metadata": {},
   "source": [
    "## 2.1 마르코프 결정 과정이란? \n",
    "\n",
    "결정 과정 : 에이전트가 환경과 상호작용하면서 행동을 결정하는 과정"
   ]
  },
  {
   "cell_type": "markdown",
   "id": "c82190f7-03b5-4eb3-bf0a-6fd12cba7746",
   "metadata": {},
   "source": [
    "### 2.1.1 구체적인 예\n"
   ]
  },
  {
   "cell_type": "markdown",
   "id": "fde73c55-b64d-45b3-9b12-7ee984fb3eb6",
   "metadata": {},
   "source": [
    "에이전트는 눈 앞의 보상이 아니라 미래에 얻을 수 있는 보상의 총합을 고려할 수 있어야 한다."
   ]
  },
  {
   "cell_type": "markdown",
   "id": "e282587a-17c9-4d9c-8ad0-b4783e8e82ab",
   "metadata": {},
   "source": [
    "### 2.1.2 에이전트와 환경의 상호작용\n",
    "\n",
    "## 2.2 환경과 에이전트를 수식으로\n",
    "\n",
    "상태 전이 : 상태는 어떻게 전이되는가?\n",
    "보상 : 보상은 어떻게 주어지는가?\n",
    "정책 : 에이전트는 행동을 어떻게 결정하는가?\n",
    "\n",
    "를 모두 수식으로 적어야 한다.\n",
    "\n",
    "### 2.2.1 상태 전이\n",
    "결정적 - deterministic\n",
    "\n",
    "상태전이가 결정적일 경우 다음 상태 s' 은 현재 상태 s와 행동 a에 의해 <b>단 하나로</b> 결정됨\n",
    "$$s' = f \\left(s,a \\right) $$\n",
    "\n",
    "이 함수 f(s,a)를 상태 전이 함수 - stater transition function 이라 함"
   ]
  },
  {
   "cell_type": "code",
   "execution_count": null,
   "id": "5fdfc214-c799-4bc0-b5d2-e6e55b7f8649",
   "metadata": {},
   "outputs": [],
   "source": []
  }
 ],
 "metadata": {
  "kernelspec": {
   "display_name": "Python 3 (ipykernel)",
   "language": "python",
   "name": "python3"
  },
  "language_info": {
   "codemirror_mode": {
    "name": "ipython",
    "version": 3
   },
   "file_extension": ".py",
   "mimetype": "text/x-python",
   "name": "python",
   "nbconvert_exporter": "python",
   "pygments_lexer": "ipython3",
   "version": "3.12.0"
  }
 },
 "nbformat": 4,
 "nbformat_minor": 5
}
